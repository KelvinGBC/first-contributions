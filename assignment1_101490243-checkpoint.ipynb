{
 "cells": [
  {
   "cell_type": "code",
   "execution_count": 1,
   "id": "db17b1ca-d860-4cdc-b3cf-7e0834a9f9a8",
   "metadata": {},
   "outputs": [
    {
     "name": "stdout",
     "output_type": "stream",
     "text": [
      "Yoga and Running Minutes: [[30, 45], [25, 40], [35, 50]]\n",
      "Lifting Minutes (Last Two Friends): [30, 25]\n"
     ]
    },
    {
     "name": "stdin",
     "output_type": "stream",
     "text": [
      "Enter a friend's name:  bron\n"
     ]
    },
    {
     "name": "stdout",
     "output_type": "stream",
     "text": [
      "Friend bron not found. Try again!\n",
      "Friend with highest workout minutes: Taylor (110 minutes)\n",
      "Friend with lowest workout minutes: Alex (95 minutes)\n"
     ]
    }
   ],
   "source": [
    "\"\"\"\n",
    "Author: Kelvin Shi\n",
    "Assignment: #1\n",
    "\"\"\"\n",
    "# Member details\n",
    "gym_member = \"Alex Alliton\"\n",
    "preferred_weight_kg = 20.5\n",
    "highest_reps = 25\n",
    "membership_active = True\n",
    "# Dictionary to store workout stats\n",
    "workout_stats = {\n",
    "    \"Lee\": [30, 45, 20],\n",
    "    \"Bron\": [25, 40, 30],\n",
    "    \"James\": [35, 50, 25]\n",
    "}\n",
    "# Dictionary to store total workout time\n",
    "totals = {}\n",
    "for person in workout_stats:\n",
    "    totals[person] = sum(workout_stats[person])\n",
    "# Extract workout data\n",
    "cardio = []\n",
    "for friend in workout_stats:\n",
    "    cardio.append(workout_stats[friend][:2]) \n",
    "lifting = []\n",
    "for friend in list(workout_stats.keys())[-2:]: \n",
    "    lifting.append(workout_stats[friend][2])\n",
    "print(\"Yoga and Running Minutes:\", cardio)\n",
    "print(\"Lifting Minutes (Last Two Friends):\", lifting)\n",
    "# Identify highly active friends\n",
    "for friend in totals:\n",
    "    if totals[friend] >= 120:\n",
    "        print(f\"Great job staying active, {friend}!\")\n",
    "# Allow user to look up a friend's stats\n",
    "name = input(\"Enter a friend's name: \").strip()\n",
    "if name in workout_stats:\n",
    "    yoga, running, weightlifting = workout_stats[name]\n",
    "    print(f\"{name}'s Workout Minutes:\")\n",
    "    print(f\"  - Yoga: {yoga} mins\")\n",
    "    print(f\"  - Running: {running} mins\")\n",
    "    print(f\"  - Weightlifting: {weightlifting} mins\")\n",
    "    print(f\"  - Total: {totals[name]} mins\")\n",
    "else:\n",
    "    print(f\"Friend {name} not found. Try again!\")\n",
    "# Find friend with highest and lowest total workout time\n",
    "most_active = None\n",
    "least_active = None\n",
    "highest_minutes = float('-inf')\n",
    "lowest_minutes = float('inf')\n",
    "for friend, minutes in totals.items():\n",
    "    if most_active is None or minutes > highest_minutes:\n",
    "        most_active = friend\n",
    "        highest_minutes = minutes    \n",
    "    if least_active is None or minutes < lowest_minutes:\n",
    "        least_active = friend\n",
    "        lowest_minutes = minutes    \n",
    "print(f\"Friend with highest workout minutes: {most_active} ({highest_minutes} minutes)\")\n",
    "print(f\"Friend with lowest workout minutes: {least_active} ({lowest_minutes} minutes)\")\n"
   ]
  },
  {
   "cell_type": "code",
   "execution_count": null,
   "id": "673fe5aa-f763-41ba-8ef2-37bdc39b8972",
   "metadata": {},
   "outputs": [],
   "source": []
  }
 ],
 "metadata": {
  "kernelspec": {
   "display_name": "Python 3 (ipykernel)",
   "language": "python",
   "name": "python3"
  },
  "language_info": {
   "codemirror_mode": {
    "name": "ipython",
    "version": 3
   },
   "file_extension": ".py",
   "mimetype": "text/x-python",
   "name": "python",
   "nbconvert_exporter": "python",
   "pygments_lexer": "ipython3",
   "version": "3.9.21"
  }
 },
 "nbformat": 4,
 "nbformat_minor": 5
}
